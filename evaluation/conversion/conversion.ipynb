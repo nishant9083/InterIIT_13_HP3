{
 "cells": [
  {
   "cell_type": "code",
   "execution_count": 2,
   "metadata": {},
   "outputs": [],
   "source": [
    "import json\n",
    "import random as rd"
   ]
  },
  {
   "cell_type": "markdown",
   "metadata": {},
   "source": [
    "## FinanceBench Dataset Conversion"
   ]
  },
  {
   "cell_type": "code",
   "execution_count": 8,
   "metadata": {},
   "outputs": [],
   "source": [
    "with open('./../datasets/financebench_opensource/raw_initial.jsonl', 'r') as jsonl_file:\n",
    "    data = [json.loads(line) for line in jsonl_file]\n",
    "\n",
    "sampled_data= rd.sample(data, 100)\n",
    "with open('./../datasets/financebench_opensource/raw.json', 'w') as json_file:\n",
    "    json.dump(sampled_data, json_file, indent=4)"
   ]
  },
  {
   "cell_type": "code",
   "execution_count": 9,
   "metadata": {},
   "outputs": [],
   "source": [
    "with open('./../datasets/financebench_opensource/raw.json', 'r') as jsonl_file:\n",
    "    data = json.load(jsonl_file)\n",
    "\n",
    "final_data= []\n",
    "for i, dt in enumerate(data):\n",
    "    final_data.append({ 'question': data[i]['question'], 'true': data[i]['answer']})\n",
    "\n",
    "\n",
    "with open('./../datasets/financebench_opensource/financebench_QA.json', 'w') as json_file:\n",
    "    json.dump(final_data, json_file, indent=4)"
   ]
  },
  {
   "cell_type": "markdown",
   "metadata": {},
   "source": [
    "## Hotpot QA"
   ]
  },
  {
   "cell_type": "code",
   "execution_count": 5,
   "metadata": {},
   "outputs": [],
   "source": [
    "with open('./../datasets/hotpotqa/raw_initial.json', 'r') as jsonl_file:\n",
    "    data = [json.loads(line) for line in jsonl_file]\n",
    "\n",
    "sampled_data= rd.sample(data[0], 100)\n",
    "with open('./../datasets/hotpotqa/raw.json', 'w') as json_file:\n",
    "    json.dump(sampled_data, json_file, indent=4)"
   ]
  },
  {
   "cell_type": "code",
   "execution_count": 10,
   "metadata": {},
   "outputs": [],
   "source": [
    "with open('./../datasets/hotpotqa/raw.json', 'r') as jsonl_file:\n",
    "    data = json.load(jsonl_file)\n",
    "\n",
    "final_data= []\n",
    "for i, dt in enumerate(data):\n",
    "    final_data.append({ 'question': data[i]['question'], 'true': data[i]['answer']})\n",
    "\n",
    "\n",
    "with open('./../datasets/hotpotqa/hotpotqa_qa.json', 'w') as json_file:\n",
    "    json.dump(final_data, json_file, indent=4)"
   ]
  },
  {
   "cell_type": "markdown",
   "metadata": {},
   "source": [
    "## Trivia QA"
   ]
  },
  {
   "cell_type": "code",
   "execution_count": null,
   "metadata": {},
   "outputs": [],
   "source": [
    "with open('./../datasets/triviaqa/raw_initial.json', 'r') as jsonl_file:\n",
    "    data = json.load(jsonl_file)\n",
    "\n",
    "sampled_data= rd.sample(data['Data'], 100)\n",
    "with open('./../datasets/triviaqa/raw.json', 'w') as json_file:\n",
    "    json.dump(sampled_data, json_file, indent=4)"
   ]
  },
  {
   "cell_type": "code",
   "execution_count": 12,
   "metadata": {},
   "outputs": [],
   "source": [
    "with open('./../datasets/triviaqa/raw.json', 'r') as jsonl_file:\n",
    "    data = json.load( jsonl_file )\n",
    "\n",
    "final_data= []\n",
    "for i, dt in enumerate(data):\n",
    "    final_data.append({ 'question': data[i]['Question'], 'true': data[i]['Answer']['Value']})\n",
    "\n",
    "\n",
    "with open('./../datasets/triviaqa/triviago_qa.json', 'w') as json_file:\n",
    "    json.dump(final_data, json_file, indent=4)"
   ]
  }
 ],
 "metadata": {
  "kernelspec": {
   "display_name": "interiit",
   "language": "python",
   "name": "python3"
  },
  "language_info": {
   "codemirror_mode": {
    "name": "ipython",
    "version": 3
   },
   "file_extension": ".py",
   "mimetype": "text/x-python",
   "name": "python",
   "nbconvert_exporter": "python",
   "pygments_lexer": "ipython3",
   "version": "3.13.0"
  }
 },
 "nbformat": 4,
 "nbformat_minor": 2
}
